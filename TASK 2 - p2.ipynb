{
 "cells": [
  {
   "cell_type": "code",
   "execution_count": 156,
   "id": "c76a70eb-46bb-4882-aa33-e821130ab238",
   "metadata": {},
   "outputs": [],
   "source": [
    "import pandas as pd\n",
    "import re\n",
    "import time\n",
    "import numpy as np\n",
    "from itertools import combinations\n",
    "import os\n",
    "from scripts.LSH import (shingle,\n",
    "                         build_vocab,\n",
    "                         one_hot,\n",
    "                         get_minhash_arr,\n",
    "                         get_signature,\n",
    "                         compute_signature_similarity\n",
    "                         )\n",
    "from scripts.LSH import LSH\n",
    "\n",
    "# Load datasets\n",
    "acm = pd.read_csv(\"datasets/ACM.csv\")\n",
    "dblp = pd.read_csv(\"datasets/DBLP2.csv\", encoding=\"latin1\") # breaks without this\n",
    "perfect_mapping = pd.read_csv(\"datasets/DBLP-ACM_perfectMapping.csv\")\n",
    "\n",
    "k = 5\n",
    "b = 10\n",
    "num_hashes = 100\n"
   ]
  },
  {
   "cell_type": "code",
   "execution_count": 157,
   "id": "6b48fd43",
   "metadata": {},
   "outputs": [],
   "source": [
    "# preprocessing\n",
    "def preprocess_record(row):\n",
    "    text = \" \".join(str(x) for x in row.values if pd.notnull(x))\n",
    "    text = re.sub(r\"\\s+\", \" \", text.lower().strip()) # substitute new lines w/ spaces etc\n",
    "    return text\n",
    "\n",
    "# get streamlined\n",
    "dblp[\"joined\"] = dblp.drop(columns='id').apply(preprocess_record, axis=1)\n",
    "acm[\"joined\"] = acm.drop(columns='id').apply(preprocess_record, axis=1)\n",
    "\n",
    "# create list as in class\n",
    "strings = dblp[\"joined\"].tolist()\n",
    "strings.extend(acm[\"joined\"].tolist())\n"
   ]
  },
  {
   "cell_type": "code",
   "execution_count": 158,
   "id": "236f9a28",
   "metadata": {},
   "outputs": [],
   "source": [
    "# Shingle Time\n",
    "shingle_sets = [shingle(s, k) for s in strings]\n",
    "vocab = build_vocab(shingle_sets)\n",
    "vectors = [one_hot(sset, vocab) for sset in shingle_sets]"
   ]
  },
  {
   "cell_type": "code",
   "execution_count": 159,
   "id": "0f9a5862",
   "metadata": {},
   "outputs": [],
   "source": [
    "# get_signature\n",
    "minhash_arr = get_minhash_arr(num_hashes, vocab)\n",
    "signatures = [get_signature(minhash_arr, v) for v in vectors]"
   ]
  },
  {
   "cell_type": "code",
   "execution_count": 160,
   "id": "de369d13",
   "metadata": {},
   "outputs": [
    {
     "name": "stdout",
     "output_type": "stream",
     "text": [
      "Signature similarity between doc0 and doc1: 0.04\n"
     ]
    }
   ],
   "source": [
    "sim = compute_signature_similarity(signatures[0], signatures[1])\n",
    "print(\"Signature similarity between doc0 and doc1:\", sim)"
   ]
  },
  {
   "cell_type": "code",
   "execution_count": 161,
   "id": "a0a8b47c",
   "metadata": {},
   "outputs": [],
   "source": [
    "lsh = LSH(2)\n",
    "for signature in signatures:\n",
    "    lsh.add_hash(signature)\n",
    "candidate_pairs = lsh.check_candidates()\n",
    "\n",
    "if not candidate_pairs:\n",
    "    raise ValueError('No candidate pairs')"
   ]
  },
  {
   "cell_type": "code",
   "execution_count": 162,
   "id": "ae3fc865",
   "metadata": {},
   "outputs": [
    {
     "name": "stdout",
     "output_type": "stream",
     "text": [
      "How Many cross pairs do we have between DBLP and ACM? 11\n"
     ]
    }
   ],
   "source": [
    "# Now candidate pairs are cross join of all elements\n",
    "# we need only dplm and acm\n",
    "\n",
    "n_dblp = len(dblp)\n",
    "n_acm = len(acm)\n",
    "\n",
    "cross_pairs = []\n",
    "for (i, j) in candidate_pairs:\n",
    "    if i < n_dblp and j >= n_dblp:# i = DBLP, j = ACM\n",
    "        cross_pairs.append((i, j - n_dblp))\n",
    "    elif j < n_dblp and i >= n_dblp:# j = DBLP, i = ACM\n",
    "        cross_pairs.append((j, i - n_dblp))\n",
    "\n",
    "print(f'How Many cross pairs do we have between DBLP and ACM? {len(cross_pairs)}')"
   ]
  },
  {
   "cell_type": "code",
   "execution_count": null,
   "id": "5fa001b3",
   "metadata": {},
   "outputs": [],
   "source": [
    "dblp_ids = dblp[\"id\"].tolist()\n",
    "acm_ids = acm[\"id\"].tolist()\n",
    "#remapped\n",
    "mapped_candidates = []\n",
    "for db_idx, ac_idx in cross_pairs: \n",
    "    db_id = dblp_ids[db_idx]\n",
    "    ac_id = acm_ids[ac_idx]\n",
    "    mapped_candidates.append((db_id, ac_id))\n"
   ]
  },
  {
   "cell_type": "code",
   "execution_count": 164,
   "id": "223a9985",
   "metadata": {},
   "outputs": [],
   "source": [
    "scored = []\n",
    "for db_idx, ac_idx in cross_pairs:\n",
    "    sim = compute_signature_similarity(\n",
    "        signatures[db_idx],\n",
    "        signatures[n_dblp + ac_idx]   # ACM index is offset\n",
    "    )\n",
    "    scored.append((db_idx, ac_idx, sim))\n",
    "\n",
    "# sort by score, descending\n",
    "scored.sort(key=lambda x: x[2], reverse=True)\n",
    "\n",
    "# take top 2224\n",
    "topk = scored[:2224]\n"
   ]
  },
  {
   "cell_type": "code",
   "execution_count": 166,
   "id": "e543ae0c",
   "metadata": {},
   "outputs": [
    {
     "name": "stdout",
     "output_type": "stream",
     "text": [
      "Precision: 1.0000 (11/11)\n"
     ]
    }
   ],
   "source": [
    "truth = set(map(tuple, perfect_mapping[[\"idDBLP\", \"idACM\"]].values))\n",
    "\n",
    "retrieved = len(topk)\n",
    "correct = 0\n",
    "for db_idx, ac_idx, _ in topk:\n",
    "    if (dblp_ids[db_idx], acm_ids[ac_idx]) in truth:\n",
    "        correct += 1\n",
    "\n",
    "precision = correct / retrieved if retrieved else 0\n",
    "print(f\"Precision: {precision:.4f} ({correct}/{retrieved})\")\n"
   ]
  }
 ],
 "metadata": {
  "kernelspec": {
   "display_name": "uupy",
   "language": "python",
   "name": "python3"
  },
  "language_info": {
   "codemirror_mode": {
    "name": "ipython",
    "version": 3
   },
   "file_extension": ".py",
   "mimetype": "text/x-python",
   "name": "python",
   "nbconvert_exporter": "python",
   "pygments_lexer": "ipython3",
   "version": "3.10.18"
  }
 },
 "nbformat": 4,
 "nbformat_minor": 5
}
